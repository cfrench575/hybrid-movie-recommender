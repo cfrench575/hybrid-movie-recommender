{
 "cells": [
  {
   "cell_type": "code",
   "execution_count": null,
   "metadata": {
    "colab": {
     "base_uri": "https://localhost:8080/"
    },
    "executionInfo": {
     "elapsed": 477,
     "status": "ok",
     "timestamp": 1618790725104,
     "user": {
      "displayName": "Chelsea French",
      "photoUrl": "",
      "userId": "14566170901165451034"
     },
     "user_tz": 420
    },
    "id": "NQqy1pBItddY",
    "outputId": "f0719b3c-1ad1-4ec8-8e70-3c699796d79f"
   },
   "outputs": [
    {
     "name": "stdout",
     "output_type": "stream",
     "text": [
      "Drive already mounted at /content/drive/; to attempt to forcibly remount, call drive.mount(\"/content/drive/\", force_remount=True).\n"
     ]
    }
   ],
   "source": [
    "from math import sqrt\n",
    "\n",
    "import pandas as pd\n",
    "\n",
    "import json\n",
    "import numpy as np\n",
    "\n",
    "from google.colab import drive\n",
    "drive.mount('/content/drive/')\n",
    "\n",
    "# Pandas config\n",
    "def pandas_config():\n",
    "    # display 10 rows and all the columns\n",
    "    pd.set_option('display.max_rows', 20)\n",
    "    pd.set_option('display.max_columns', None)\n",
    "\n",
    "    \n",
    "pandas_config()"
   ]
  },
  {
   "cell_type": "markdown",
   "metadata": {
    "id": "kcD9G6DoullW"
   },
   "source": [
    "## Load Data\n",
    "Plot keywords and metadata from IMDB, ratings from the movielens data. Dataset located here:\n",
    "https://www.kaggle.com/rounakbanik/the-movies-dataset?select=movies_metadata\n",
    "\n",
    "movieclub friends' data collected weekly in a second dataset to add to the movielens rating data for personalized predictions. \n"
   ]
  },
  {
   "cell_type": "code",
   "execution_count": null,
   "metadata": {
    "colab": {
     "base_uri": "https://localhost:8080/"
    },
    "executionInfo": {
     "elapsed": 11081,
     "status": "ok",
     "timestamp": 1618791223478,
     "user": {
      "displayName": "Chelsea French",
      "photoUrl": "",
      "userId": "14566170901165451034"
     },
     "user_tz": 420
    },
    "id": "1WedQ62ouDQq",
    "outputId": "e0f10c34-a59f-4841-9431-4b2edc4d7a05"
   },
   "outputs": [
    {
     "name": "stderr",
     "output_type": "stream",
     "text": [
      "/usr/local/lib/python3.7/dist-packages/IPython/core/interactiveshell.py:2718: DtypeWarning: Columns (10) have mixed types.Specify dtype option on import or set low_memory=False.\n",
      "  interactivity=interactivity, compiler=compiler, result=result)\n"
     ]
    }
   ],
   "source": [
    "ratings = pd.read_csv('/content/drive/MyDrive/online learning/movierecs/data/ratings.csv')\n",
    "movieclub = pd.read_csv('/content/drive/MyDrive/online learning/movierecs/data/movieclub.csv')\n",
    "keywords = pd.read_csv('/content/drive/MyDrive/online learning/movierecs/data/keywords.csv')\n",
    "movie_metadata = pd.read_csv('/content/drive/MyDrive/online learning/movierecs/data/movies_metadata.csv')"
   ]
  },
  {
   "cell_type": "markdown",
   "metadata": {
    "id": "awK24bKZvxhk"
   },
   "source": [
    "## Data preparation\n",
    "\n",
    "Prepare ratings, movieclub and movies data to be merged"
   ]
  },
  {
   "cell_type": "code",
   "execution_count": null,
   "metadata": {
    "colab": {
     "base_uri": "https://localhost:8080/",
     "height": 203
    },
    "executionInfo": {
     "elapsed": 520,
     "status": "ok",
     "timestamp": 1618791318510,
     "user": {
      "displayName": "Chelsea French",
      "photoUrl": "",
      "userId": "14566170901165451034"
     },
     "user_tz": 420
    },
    "id": "n0ncQtLRviwi",
    "outputId": "27d8a6cd-4122-44f1-aa03-0213df085315"
   },
   "outputs": [
    {
     "data": {
      "text/html": [
       "<div>\n",
       "<style scoped>\n",
       "    .dataframe tbody tr th:only-of-type {\n",
       "        vertical-align: middle;\n",
       "    }\n",
       "\n",
       "    .dataframe tbody tr th {\n",
       "        vertical-align: top;\n",
       "    }\n",
       "\n",
       "    .dataframe thead th {\n",
       "        text-align: right;\n",
       "    }\n",
       "</style>\n",
       "<table border=\"1\" class=\"dataframe\">\n",
       "  <thead>\n",
       "    <tr style=\"text-align: right;\">\n",
       "      <th></th>\n",
       "      <th>movieId</th>\n",
       "      <th>title</th>\n",
       "    </tr>\n",
       "  </thead>\n",
       "  <tbody>\n",
       "    <tr>\n",
       "      <th>0</th>\n",
       "      <td>862</td>\n",
       "      <td>Toy Story</td>\n",
       "    </tr>\n",
       "    <tr>\n",
       "      <th>1</th>\n",
       "      <td>8844</td>\n",
       "      <td>Jumanji</td>\n",
       "    </tr>\n",
       "    <tr>\n",
       "      <th>2</th>\n",
       "      <td>15602</td>\n",
       "      <td>Grumpier Old Men</td>\n",
       "    </tr>\n",
       "    <tr>\n",
       "      <th>3</th>\n",
       "      <td>31357</td>\n",
       "      <td>Waiting to Exhale</td>\n",
       "    </tr>\n",
       "    <tr>\n",
       "      <th>4</th>\n",
       "      <td>11862</td>\n",
       "      <td>Father of the Bride Part II</td>\n",
       "    </tr>\n",
       "  </tbody>\n",
       "</table>\n",
       "</div>"
      ],
      "text/plain": [
       "   movieId                        title\n",
       "0      862                    Toy Story\n",
       "1     8844                      Jumanji\n",
       "2    15602             Grumpier Old Men\n",
       "3    31357            Waiting to Exhale\n",
       "4    11862  Father of the Bride Part II"
      ]
     },
     "execution_count": 146,
     "metadata": {
      "tags": []
     },
     "output_type": "execute_result"
    }
   ],
   "source": [
    "ratings=ratings[[\"userId\", \"movieId\", \"rating\"]]\n",
    "movieclub=movieclub[[\"userId\", \"movieId\", \"rating\"]].dropna() \n",
    "movieclub['movieId'] = movieclub['movieId'].astype(int)\n",
    "movieclub.head()\n",
    "\n",
    "movies=movie_metadata[['id', 'title']].dropna() \n",
    "movies = movies.rename(columns={'id': 'movieId'})\n",
    "movies['movieId'] = movies['movieId'].astype(int)\n",
    "movies.head()\n",
    "\n",
    "# test\n",
    "# movies.loc[movies['movieId'] == 480]"
   ]
  },
  {
   "cell_type": "markdown",
   "metadata": {
    "id": "c3_nMxNjwt48"
   },
   "source": [
    "Reformat dictionary keyword data so that each movie has a array of keywords. Movie keywords will be used for the content-based part of the recommendation algorithm."
   ]
  },
  {
   "cell_type": "code",
   "execution_count": null,
   "metadata": {
    "colab": {
     "base_uri": "https://localhost:8080/",
     "height": 203
    },
    "executionInfo": {
     "elapsed": 1444,
     "status": "ok",
     "timestamp": 1618791329697,
     "user": {
      "displayName": "Chelsea French",
      "photoUrl": "",
      "userId": "14566170901165451034"
     },
     "user_tz": 420
    },
    "id": "MsUqMJHqwTIQ",
    "outputId": "56f927c2-64be-42d8-c8dd-c21b75fe3d56"
   },
   "outputs": [
    {
     "data": {
      "text/html": [
       "<div>\n",
       "<style scoped>\n",
       "    .dataframe tbody tr th:only-of-type {\n",
       "        vertical-align: middle;\n",
       "    }\n",
       "\n",
       "    .dataframe tbody tr th {\n",
       "        vertical-align: top;\n",
       "    }\n",
       "\n",
       "    .dataframe thead th {\n",
       "        text-align: right;\n",
       "    }\n",
       "</style>\n",
       "<table border=\"1\" class=\"dataframe\">\n",
       "  <thead>\n",
       "    <tr style=\"text-align: right;\">\n",
       "      <th></th>\n",
       "      <th>movieId</th>\n",
       "      <th>word_array</th>\n",
       "    </tr>\n",
       "  </thead>\n",
       "  <tbody>\n",
       "    <tr>\n",
       "      <th>0</th>\n",
       "      <td>862</td>\n",
       "      <td>[jealousy, toy, boy, friendship, friends, riva...</td>\n",
       "    </tr>\n",
       "    <tr>\n",
       "      <th>1</th>\n",
       "      <td>8844</td>\n",
       "      <td>[board game, disappearance, based on childrens...</td>\n",
       "    </tr>\n",
       "    <tr>\n",
       "      <th>2</th>\n",
       "      <td>15602</td>\n",
       "      <td>[fishing, best friend, duringcreditsstinger, o...</td>\n",
       "    </tr>\n",
       "    <tr>\n",
       "      <th>3</th>\n",
       "      <td>31357</td>\n",
       "      <td>[based on novel, interracial relationship, sin...</td>\n",
       "    </tr>\n",
       "    <tr>\n",
       "      <th>4</th>\n",
       "      <td>11862</td>\n",
       "      <td>[baby, midlife crisis, confidence, aging, daug...</td>\n",
       "    </tr>\n",
       "  </tbody>\n",
       "</table>\n",
       "</div>"
      ],
      "text/plain": [
       "   movieId                                         word_array\n",
       "0      862  [jealousy, toy, boy, friendship, friends, riva...\n",
       "1     8844  [board game, disappearance, based on childrens...\n",
       "2    15602  [fishing, best friend, duringcreditsstinger, o...\n",
       "3    31357  [based on novel, interracial relationship, sin...\n",
       "4    11862  [baby, midlife crisis, confidence, aging, daug..."
      ]
     },
     "execution_count": 147,
     "metadata": {
      "tags": []
     },
     "output_type": "execute_result"
    }
   ],
   "source": [
    "##convert list of dictionaries in columns to an array of keywords\n",
    "column_of_lists=[]\n",
    "for i in range(len(keywords)): \n",
    "    row=keywords.loc[i, \"keywords\"]\n",
    "    try:\n",
    "        dictionaries = json.loads(row.replace(\"'\", \"\\\"\"))\n",
    "        keyword_list=[]\n",
    "        for Dict in dictionaries:\n",
    "            keyword=(Dict['name'])\n",
    "            keyword_list.append(keyword)\n",
    "    except:\n",
    "        keyword_list.append([])\n",
    "    column_of_lists.append(keyword_list)\n",
    "    \n",
    "keywords['word_array']=column_of_lists\n",
    "keywords['id']=keywords['id'].astype(int)\n",
    "\n",
    "keywords = keywords.rename(columns={'id': 'movieId'})\n",
    "keywords = keywords[['movieId', 'word_array']]\n",
    "keywords.head()"
   ]
  },
  {
   "cell_type": "markdown",
   "metadata": {
    "id": "hJhfwXFfyI-x"
   },
   "source": [
    "Concatonate MovieLens data with friends' rating data. \n",
    "\n",
    "The movieLens data is very large, so to improve latency I'm filtering out movies that we haven't watched as a group. The resulting dataset consists of user ratings (both from the MovieLens dataset and my friends) from movies that have been selected and discussed for movie club\n",
    " "
   ]
  },
  {
   "cell_type": "code",
   "execution_count": null,
   "metadata": {
    "colab": {
     "base_uri": "https://localhost:8080/",
     "height": 203
    },
    "executionInfo": {
     "elapsed": 458,
     "status": "ok",
     "timestamp": 1618791335365,
     "user": {
      "displayName": "Chelsea French",
      "photoUrl": "",
      "userId": "14566170901165451034"
     },
     "user_tz": 420
    },
    "id": "ozxIQHMsyIXZ",
    "outputId": "c3a04136-c274-4cda-ac27-93eec78efbca"
   },
   "outputs": [
    {
     "data": {
      "text/html": [
       "<div>\n",
       "<style scoped>\n",
       "    .dataframe tbody tr th:only-of-type {\n",
       "        vertical-align: middle;\n",
       "    }\n",
       "\n",
       "    .dataframe tbody tr th {\n",
       "        vertical-align: top;\n",
       "    }\n",
       "\n",
       "    .dataframe thead th {\n",
       "        text-align: right;\n",
       "    }\n",
       "</style>\n",
       "<table border=\"1\" class=\"dataframe\">\n",
       "  <thead>\n",
       "    <tr style=\"text-align: right;\">\n",
       "      <th></th>\n",
       "      <th>movieId</th>\n",
       "      <th>title</th>\n",
       "    </tr>\n",
       "  </thead>\n",
       "  <tbody>\n",
       "    <tr>\n",
       "      <th>167</th>\n",
       "      <td>10428</td>\n",
       "      <td>Hackers</td>\n",
       "    </tr>\n",
       "    <tr>\n",
       "      <th>232</th>\n",
       "      <td>397</td>\n",
       "      <td>French Kiss</td>\n",
       "    </tr>\n",
       "    <tr>\n",
       "      <th>905</th>\n",
       "      <td>8356</td>\n",
       "      <td>An Affair to Remember</td>\n",
       "    </tr>\n",
       "    <tr>\n",
       "      <th>1063</th>\n",
       "      <td>9504</td>\n",
       "      <td>Glengarry Glen Ross</td>\n",
       "    </tr>\n",
       "    <tr>\n",
       "      <th>1182</th>\n",
       "      <td>279</td>\n",
       "      <td>Amadeus</td>\n",
       "    </tr>\n",
       "  </tbody>\n",
       "</table>\n",
       "</div>"
      ],
      "text/plain": [
       "      movieId                  title\n",
       "167     10428                Hackers\n",
       "232       397            French Kiss\n",
       "905      8356  An Affair to Remember\n",
       "1063     9504    Glengarry Glen Ross\n",
       "1182      279                Amadeus"
      ]
     },
     "execution_count": 148,
     "metadata": {
      "tags": []
     },
     "output_type": "execute_result"
    }
   ],
   "source": [
    "### Alissa    270897\n",
    "### Byron     270898\n",
    "### Chelsea   270899\n",
    "### Hannah    270900\n",
    "### Harrison  270901\n",
    "### Martin    270902\n",
    "### Michael   270903\n",
    "### Katherine 270904\n",
    "\n",
    "ratings=pd.concat([ratings, movieclub], ignore_index=True)\n",
    "ratings.reset_index(drop=True, inplace=True)\n",
    "\n",
    "# print(ratings.shape)\n",
    "# print(ratings.tail(100))\n",
    "# print(ratings.loc[ratings['userId'] == 270897])\n",
    "\n",
    "movies_watched=list(movieclub.movieId.unique())\n",
    "movies_to_keep=movies_watched + [480]\n",
    "\n",
    "movies=movies[movies.movieId.isin(movies_to_keep)]\n",
    "movies.head()"
   ]
  },
  {
   "cell_type": "markdown",
   "metadata": {
    "id": "x1F6UJ5fz3ke"
   },
   "source": [
    "Also filter out unwatched movies from the keywords dataset"
   ]
  },
  {
   "cell_type": "code",
   "execution_count": null,
   "metadata": {
    "colab": {
     "base_uri": "https://localhost:8080/",
     "height": 203
    },
    "executionInfo": {
     "elapsed": 792,
     "status": "ok",
     "timestamp": 1618791339935,
     "user": {
      "displayName": "Chelsea French",
      "photoUrl": "",
      "userId": "14566170901165451034"
     },
     "user_tz": 420
    },
    "id": "rK3ab5Qrzy9N",
    "outputId": "5bdc7cbf-3962-4485-a2da-ce6df3b830f7"
   },
   "outputs": [
    {
     "data": {
      "text/html": [
       "<div>\n",
       "<style scoped>\n",
       "    .dataframe tbody tr th:only-of-type {\n",
       "        vertical-align: middle;\n",
       "    }\n",
       "\n",
       "    .dataframe tbody tr th {\n",
       "        vertical-align: top;\n",
       "    }\n",
       "\n",
       "    .dataframe thead th {\n",
       "        text-align: right;\n",
       "    }\n",
       "</style>\n",
       "<table border=\"1\" class=\"dataframe\">\n",
       "  <thead>\n",
       "    <tr style=\"text-align: right;\">\n",
       "      <th></th>\n",
       "      <th>movieId</th>\n",
       "      <th>word_array</th>\n",
       "    </tr>\n",
       "  </thead>\n",
       "  <tbody>\n",
       "    <tr>\n",
       "      <th>167</th>\n",
       "      <td>10428</td>\n",
       "      <td>'female nudity', 'hacker', 'nudity', 'computer...</td>\n",
       "    </tr>\n",
       "    <tr>\n",
       "      <th>232</th>\n",
       "      <td>397</td>\n",
       "      <td>'paris', 'airport', 'in love with enemy', 'can...</td>\n",
       "    </tr>\n",
       "    <tr>\n",
       "      <th>905</th>\n",
       "      <td>8356</td>\n",
       "      <td>'painting', 'singer', 'night club', 'cruise sh...</td>\n",
       "    </tr>\n",
       "    <tr>\n",
       "      <th>1063</th>\n",
       "      <td>9504</td>\n",
       "      <td>'robbery', 'office', 'shop', 'estate agent', '...</td>\n",
       "    </tr>\n",
       "    <tr>\n",
       "      <th>1182</th>\n",
       "      <td>279</td>\n",
       "      <td>'italy', 'composer', 'opera', 'talent', 'music...</td>\n",
       "    </tr>\n",
       "  </tbody>\n",
       "</table>\n",
       "</div>"
      ],
      "text/plain": [
       "      movieId                                         word_array\n",
       "167     10428  'female nudity', 'hacker', 'nudity', 'computer...\n",
       "232       397  'paris', 'airport', 'in love with enemy', 'can...\n",
       "905      8356  'painting', 'singer', 'night club', 'cruise sh...\n",
       "1063     9504  'robbery', 'office', 'shop', 'estate agent', '...\n",
       "1182      279  'italy', 'composer', 'opera', 'talent', 'music..."
      ]
     },
     "execution_count": 149,
     "metadata": {
      "tags": []
     },
     "output_type": "execute_result"
    }
   ],
   "source": [
    "keywords['word_array'] = keywords['word_array'].astype('str') \n",
    "keywords= keywords.replace('\\[','', regex=True)\n",
    "keywords= keywords.replace('\\]','', regex=True)\n",
    "\n",
    "keywords=keywords[keywords.movieId.isin(movies_to_keep)]\n",
    "\n",
    "keywords.head()"
   ]
  },
  {
   "cell_type": "markdown",
   "metadata": {
    "id": "_cjHQxH00KEb"
   },
   "source": [
    "Merge ratings, movies ad keywords into a single dataframe"
   ]
  },
  {
   "cell_type": "code",
   "execution_count": null,
   "metadata": {
    "colab": {
     "base_uri": "https://localhost:8080/",
     "height": 357
    },
    "executionInfo": {
     "elapsed": 2101,
     "status": "ok",
     "timestamp": 1618791345046,
     "user": {
      "displayName": "Chelsea French",
      "photoUrl": "",
      "userId": "14566170901165451034"
     },
     "user_tz": 420
    },
    "id": "-CndVu2R0BaD",
    "outputId": "d32793ce-0d1a-43d7-f54d-13eeaf6140ef"
   },
   "outputs": [
    {
     "data": {
      "text/html": [
       "<div>\n",
       "<style scoped>\n",
       "    .dataframe tbody tr th:only-of-type {\n",
       "        vertical-align: middle;\n",
       "    }\n",
       "\n",
       "    .dataframe tbody tr th {\n",
       "        vertical-align: top;\n",
       "    }\n",
       "\n",
       "    .dataframe thead th {\n",
       "        text-align: right;\n",
       "    }\n",
       "</style>\n",
       "<table border=\"1\" class=\"dataframe\">\n",
       "  <thead>\n",
       "    <tr style=\"text-align: right;\">\n",
       "      <th></th>\n",
       "      <th>userId</th>\n",
       "      <th>movieId</th>\n",
       "      <th>rating</th>\n",
       "      <th>title</th>\n",
       "      <th>word_array</th>\n",
       "    </tr>\n",
       "  </thead>\n",
       "  <tbody>\n",
       "    <tr>\n",
       "      <th>158784</th>\n",
       "      <td>270901</td>\n",
       "      <td>11072</td>\n",
       "      <td>5.0</td>\n",
       "      <td>Blazing Saddles</td>\n",
       "      <td>'gun', 'saloon', 'governor', 'marching band', ...</td>\n",
       "    </tr>\n",
       "    <tr>\n",
       "      <th>158785</th>\n",
       "      <td>270902</td>\n",
       "      <td>11072</td>\n",
       "      <td>3.0</td>\n",
       "      <td>Blazing Saddles</td>\n",
       "      <td>'gun', 'saloon', 'governor', 'marching band', ...</td>\n",
       "    </tr>\n",
       "    <tr>\n",
       "      <th>158786</th>\n",
       "      <td>270903</td>\n",
       "      <td>11072</td>\n",
       "      <td>3.0</td>\n",
       "      <td>Blazing Saddles</td>\n",
       "      <td>'gun', 'saloon', 'governor', 'marching band', ...</td>\n",
       "    </tr>\n",
       "    <tr>\n",
       "      <th>158787</th>\n",
       "      <td>270898</td>\n",
       "      <td>14353</td>\n",
       "      <td>4.0</td>\n",
       "      <td>Repo! The Genetic Opera</td>\n",
       "      <td>'dystopia'</td>\n",
       "    </tr>\n",
       "    <tr>\n",
       "      <th>158788</th>\n",
       "      <td>270899</td>\n",
       "      <td>14353</td>\n",
       "      <td>4.5</td>\n",
       "      <td>Repo! The Genetic Opera</td>\n",
       "      <td>'dystopia'</td>\n",
       "    </tr>\n",
       "    <tr>\n",
       "      <th>158789</th>\n",
       "      <td>270900</td>\n",
       "      <td>14353</td>\n",
       "      <td>4.0</td>\n",
       "      <td>Repo! The Genetic Opera</td>\n",
       "      <td>'dystopia'</td>\n",
       "    </tr>\n",
       "    <tr>\n",
       "      <th>158790</th>\n",
       "      <td>270901</td>\n",
       "      <td>14353</td>\n",
       "      <td>2.0</td>\n",
       "      <td>Repo! The Genetic Opera</td>\n",
       "      <td>'dystopia'</td>\n",
       "    </tr>\n",
       "    <tr>\n",
       "      <th>158791</th>\n",
       "      <td>270902</td>\n",
       "      <td>14353</td>\n",
       "      <td>2.0</td>\n",
       "      <td>Repo! The Genetic Opera</td>\n",
       "      <td>'dystopia'</td>\n",
       "    </tr>\n",
       "    <tr>\n",
       "      <th>158792</th>\n",
       "      <td>270903</td>\n",
       "      <td>14353</td>\n",
       "      <td>1.0</td>\n",
       "      <td>Repo! The Genetic Opera</td>\n",
       "      <td>'dystopia'</td>\n",
       "    </tr>\n",
       "    <tr>\n",
       "      <th>158793</th>\n",
       "      <td>270904</td>\n",
       "      <td>14353</td>\n",
       "      <td>4.5</td>\n",
       "      <td>Repo! The Genetic Opera</td>\n",
       "      <td>'dystopia'</td>\n",
       "    </tr>\n",
       "  </tbody>\n",
       "</table>\n",
       "</div>"
      ],
      "text/plain": [
       "        userId movieId  rating                    title  \\\n",
       "158784  270901   11072     5.0          Blazing Saddles   \n",
       "158785  270902   11072     3.0          Blazing Saddles   \n",
       "158786  270903   11072     3.0          Blazing Saddles   \n",
       "158787  270898   14353     4.0  Repo! The Genetic Opera   \n",
       "158788  270899   14353     4.5  Repo! The Genetic Opera   \n",
       "158789  270900   14353     4.0  Repo! The Genetic Opera   \n",
       "158790  270901   14353     2.0  Repo! The Genetic Opera   \n",
       "158791  270902   14353     2.0  Repo! The Genetic Opera   \n",
       "158792  270903   14353     1.0  Repo! The Genetic Opera   \n",
       "158793  270904   14353     4.5  Repo! The Genetic Opera   \n",
       "\n",
       "                                               word_array  \n",
       "158784  'gun', 'saloon', 'governor', 'marching band', ...  \n",
       "158785  'gun', 'saloon', 'governor', 'marching band', ...  \n",
       "158786  'gun', 'saloon', 'governor', 'marching band', ...  \n",
       "158787                                         'dystopia'  \n",
       "158788                                         'dystopia'  \n",
       "158789                                         'dystopia'  \n",
       "158790                                         'dystopia'  \n",
       "158791                                         'dystopia'  \n",
       "158792                                         'dystopia'  \n",
       "158793                                         'dystopia'  "
      ]
     },
     "execution_count": 150,
     "metadata": {
      "tags": []
     },
     "output_type": "execute_result"
    }
   ],
   "source": [
    "ratings2= pd.merge(ratings, movies, on=\"movieId\")\n",
    "ratings2.head()\n",
    "\n",
    "data = pd.merge(ratings2, keywords, on=\"movieId\")\n",
    "\n",
    "data['movieId'] = data['movieId'].astype('str') \n",
    "\n",
    "# print(data.isnull().sum())\n",
    "# print(data.shape)\n",
    "data.tail(10)"
   ]
  },
  {
   "cell_type": "markdown",
   "metadata": {
    "id": "Ry-8_bN40jrX"
   },
   "source": [
    "## LightFM data inputs\n",
    "\n",
    "The lightFM algorithm takes up to three inputs: the user-item interaction matrix, the item feature matrix and the user feature matrix. "
   ]
  },
  {
   "cell_type": "code",
   "execution_count": null,
   "metadata": {
    "colab": {
     "base_uri": "https://localhost:8080/",
     "height": 407
    },
    "executionInfo": {
     "elapsed": 556,
     "status": "ok",
     "timestamp": 1618791348453,
     "user": {
      "displayName": "Chelsea French",
      "photoUrl": "",
      "userId": "14566170901165451034"
     },
     "user_tz": 420
    },
    "id": "BjxffHCi0e25",
    "outputId": "c8f27176-e4d0-414c-c8e8-32615f8dcf07"
   },
   "outputs": [
    {
     "data": {
      "text/html": [
       "<div>\n",
       "<style scoped>\n",
       "    .dataframe tbody tr th:only-of-type {\n",
       "        vertical-align: middle;\n",
       "    }\n",
       "\n",
       "    .dataframe tbody tr th {\n",
       "        vertical-align: top;\n",
       "    }\n",
       "\n",
       "    .dataframe thead th {\n",
       "        text-align: right;\n",
       "    }\n",
       "</style>\n",
       "<table border=\"1\" class=\"dataframe\">\n",
       "  <thead>\n",
       "    <tr style=\"text-align: right;\">\n",
       "      <th>movieId</th>\n",
       "      <th>1018</th>\n",
       "      <th>10428</th>\n",
       "      <th>11072</th>\n",
       "      <th>12477</th>\n",
       "      <th>1262</th>\n",
       "      <th>1391</th>\n",
       "      <th>1427</th>\n",
       "      <th>14353</th>\n",
       "      <th>169813</th>\n",
       "      <th>19</th>\n",
       "      <th>1946</th>\n",
       "      <th>20375</th>\n",
       "      <th>20992</th>\n",
       "      <th>210479</th>\n",
       "      <th>24650</th>\n",
       "      <th>24804</th>\n",
       "      <th>253306</th>\n",
       "      <th>26670</th>\n",
       "      <th>279</th>\n",
       "      <th>3175</th>\n",
       "      <th>397</th>\n",
       "      <th>436</th>\n",
       "      <th>480</th>\n",
       "      <th>483</th>\n",
       "      <th>5548</th>\n",
       "      <th>5994</th>\n",
       "      <th>612</th>\n",
       "      <th>6615</th>\n",
       "      <th>71859</th>\n",
       "      <th>793</th>\n",
       "      <th>8356</th>\n",
       "      <th>86829</th>\n",
       "      <th>925</th>\n",
       "      <th>9470</th>\n",
       "      <th>9504</th>\n",
       "      <th>9707</th>\n",
       "      <th>97370</th>\n",
       "    </tr>\n",
       "    <tr>\n",
       "      <th>userId</th>\n",
       "      <th></th>\n",
       "      <th></th>\n",
       "      <th></th>\n",
       "      <th></th>\n",
       "      <th></th>\n",
       "      <th></th>\n",
       "      <th></th>\n",
       "      <th></th>\n",
       "      <th></th>\n",
       "      <th></th>\n",
       "      <th></th>\n",
       "      <th></th>\n",
       "      <th></th>\n",
       "      <th></th>\n",
       "      <th></th>\n",
       "      <th></th>\n",
       "      <th></th>\n",
       "      <th></th>\n",
       "      <th></th>\n",
       "      <th></th>\n",
       "      <th></th>\n",
       "      <th></th>\n",
       "      <th></th>\n",
       "      <th></th>\n",
       "      <th></th>\n",
       "      <th></th>\n",
       "      <th></th>\n",
       "      <th></th>\n",
       "      <th></th>\n",
       "      <th></th>\n",
       "      <th></th>\n",
       "      <th></th>\n",
       "      <th></th>\n",
       "      <th></th>\n",
       "      <th></th>\n",
       "      <th></th>\n",
       "      <th></th>\n",
       "    </tr>\n",
       "  </thead>\n",
       "  <tbody>\n",
       "    <tr>\n",
       "      <th>270894</th>\n",
       "      <td>0.00</td>\n",
       "      <td>0.0</td>\n",
       "      <td>0.0</td>\n",
       "      <td>0.0</td>\n",
       "      <td>0.0</td>\n",
       "      <td>0.0</td>\n",
       "      <td>0.0</td>\n",
       "      <td>0.0</td>\n",
       "      <td>0.0</td>\n",
       "      <td>0.0</td>\n",
       "      <td>0.0</td>\n",
       "      <td>0.00</td>\n",
       "      <td>0.0</td>\n",
       "      <td>0.0</td>\n",
       "      <td>0.0</td>\n",
       "      <td>0.0</td>\n",
       "      <td>0.0</td>\n",
       "      <td>0.00</td>\n",
       "      <td>0.0</td>\n",
       "      <td>0.0</td>\n",
       "      <td>0.0</td>\n",
       "      <td>0.0</td>\n",
       "      <td>3.0</td>\n",
       "      <td>0.0</td>\n",
       "      <td>0.0</td>\n",
       "      <td>0.0</td>\n",
       "      <td>0.0</td>\n",
       "      <td>0.0</td>\n",
       "      <td>0.00</td>\n",
       "      <td>0.00</td>\n",
       "      <td>0.0</td>\n",
       "      <td>0.00</td>\n",
       "      <td>0.0</td>\n",
       "      <td>0.0</td>\n",
       "      <td>0.0</td>\n",
       "      <td>0.0</td>\n",
       "      <td>0.0</td>\n",
       "    </tr>\n",
       "    <tr>\n",
       "      <th>270896</th>\n",
       "      <td>0.00</td>\n",
       "      <td>0.0</td>\n",
       "      <td>0.0</td>\n",
       "      <td>0.0</td>\n",
       "      <td>0.0</td>\n",
       "      <td>0.0</td>\n",
       "      <td>0.0</td>\n",
       "      <td>0.0</td>\n",
       "      <td>0.0</td>\n",
       "      <td>2.0</td>\n",
       "      <td>0.0</td>\n",
       "      <td>0.00</td>\n",
       "      <td>0.0</td>\n",
       "      <td>0.0</td>\n",
       "      <td>0.0</td>\n",
       "      <td>0.0</td>\n",
       "      <td>0.0</td>\n",
       "      <td>0.00</td>\n",
       "      <td>0.0</td>\n",
       "      <td>0.0</td>\n",
       "      <td>0.0</td>\n",
       "      <td>0.0</td>\n",
       "      <td>5.0</td>\n",
       "      <td>0.0</td>\n",
       "      <td>0.0</td>\n",
       "      <td>0.0</td>\n",
       "      <td>0.0</td>\n",
       "      <td>0.0</td>\n",
       "      <td>0.00</td>\n",
       "      <td>0.00</td>\n",
       "      <td>0.0</td>\n",
       "      <td>0.00</td>\n",
       "      <td>0.0</td>\n",
       "      <td>0.0</td>\n",
       "      <td>0.0</td>\n",
       "      <td>0.0</td>\n",
       "      <td>0.0</td>\n",
       "    </tr>\n",
       "    <tr>\n",
       "      <th>270897</th>\n",
       "      <td>0.00</td>\n",
       "      <td>1.0</td>\n",
       "      <td>0.0</td>\n",
       "      <td>3.0</td>\n",
       "      <td>4.0</td>\n",
       "      <td>0.0</td>\n",
       "      <td>1.0</td>\n",
       "      <td>0.0</td>\n",
       "      <td>5.0</td>\n",
       "      <td>0.0</td>\n",
       "      <td>0.5</td>\n",
       "      <td>0.25</td>\n",
       "      <td>0.0</td>\n",
       "      <td>4.0</td>\n",
       "      <td>2.5</td>\n",
       "      <td>0.0</td>\n",
       "      <td>0.0</td>\n",
       "      <td>0.00</td>\n",
       "      <td>0.0</td>\n",
       "      <td>2.5</td>\n",
       "      <td>0.0</td>\n",
       "      <td>3.5</td>\n",
       "      <td>0.0</td>\n",
       "      <td>0.0</td>\n",
       "      <td>0.0</td>\n",
       "      <td>3.0</td>\n",
       "      <td>0.0</td>\n",
       "      <td>0.0</td>\n",
       "      <td>1.50</td>\n",
       "      <td>0.50</td>\n",
       "      <td>0.0</td>\n",
       "      <td>1.00</td>\n",
       "      <td>0.0</td>\n",
       "      <td>3.5</td>\n",
       "      <td>1.0</td>\n",
       "      <td>1.5</td>\n",
       "      <td>0.0</td>\n",
       "    </tr>\n",
       "    <tr>\n",
       "      <th>270898</th>\n",
       "      <td>4.50</td>\n",
       "      <td>3.5</td>\n",
       "      <td>3.0</td>\n",
       "      <td>3.0</td>\n",
       "      <td>2.5</td>\n",
       "      <td>4.5</td>\n",
       "      <td>2.5</td>\n",
       "      <td>4.0</td>\n",
       "      <td>4.0</td>\n",
       "      <td>0.0</td>\n",
       "      <td>2.0</td>\n",
       "      <td>1.50</td>\n",
       "      <td>4.0</td>\n",
       "      <td>3.5</td>\n",
       "      <td>1.5</td>\n",
       "      <td>5.0</td>\n",
       "      <td>3.0</td>\n",
       "      <td>4.00</td>\n",
       "      <td>2.5</td>\n",
       "      <td>3.5</td>\n",
       "      <td>0.0</td>\n",
       "      <td>0.0</td>\n",
       "      <td>0.0</td>\n",
       "      <td>0.0</td>\n",
       "      <td>3.5</td>\n",
       "      <td>0.0</td>\n",
       "      <td>4.0</td>\n",
       "      <td>4.5</td>\n",
       "      <td>1.50</td>\n",
       "      <td>3.00</td>\n",
       "      <td>4.5</td>\n",
       "      <td>3.50</td>\n",
       "      <td>4.0</td>\n",
       "      <td>1.5</td>\n",
       "      <td>0.0</td>\n",
       "      <td>1.5</td>\n",
       "      <td>5.0</td>\n",
       "    </tr>\n",
       "    <tr>\n",
       "      <th>270899</th>\n",
       "      <td>4.00</td>\n",
       "      <td>3.0</td>\n",
       "      <td>4.0</td>\n",
       "      <td>3.5</td>\n",
       "      <td>3.0</td>\n",
       "      <td>4.5</td>\n",
       "      <td>4.0</td>\n",
       "      <td>4.5</td>\n",
       "      <td>4.5</td>\n",
       "      <td>3.5</td>\n",
       "      <td>3.5</td>\n",
       "      <td>3.50</td>\n",
       "      <td>4.5</td>\n",
       "      <td>2.5</td>\n",
       "      <td>1.0</td>\n",
       "      <td>0.0</td>\n",
       "      <td>4.0</td>\n",
       "      <td>0.00</td>\n",
       "      <td>0.0</td>\n",
       "      <td>2.0</td>\n",
       "      <td>0.0</td>\n",
       "      <td>4.0</td>\n",
       "      <td>0.0</td>\n",
       "      <td>0.0</td>\n",
       "      <td>0.0</td>\n",
       "      <td>1.5</td>\n",
       "      <td>2.5</td>\n",
       "      <td>4.0</td>\n",
       "      <td>4.50</td>\n",
       "      <td>2.00</td>\n",
       "      <td>0.0</td>\n",
       "      <td>3.50</td>\n",
       "      <td>4.5</td>\n",
       "      <td>0.0</td>\n",
       "      <td>1.5</td>\n",
       "      <td>3.0</td>\n",
       "      <td>4.0</td>\n",
       "    </tr>\n",
       "    <tr>\n",
       "      <th>270900</th>\n",
       "      <td>5.00</td>\n",
       "      <td>1.0</td>\n",
       "      <td>3.0</td>\n",
       "      <td>1.0</td>\n",
       "      <td>5.0</td>\n",
       "      <td>4.0</td>\n",
       "      <td>2.5</td>\n",
       "      <td>4.0</td>\n",
       "      <td>4.5</td>\n",
       "      <td>3.0</td>\n",
       "      <td>1.5</td>\n",
       "      <td>0.25</td>\n",
       "      <td>0.0</td>\n",
       "      <td>1.5</td>\n",
       "      <td>0.5</td>\n",
       "      <td>1.5</td>\n",
       "      <td>3.5</td>\n",
       "      <td>4.00</td>\n",
       "      <td>3.5</td>\n",
       "      <td>0.0</td>\n",
       "      <td>0.0</td>\n",
       "      <td>4.0</td>\n",
       "      <td>0.0</td>\n",
       "      <td>3.5</td>\n",
       "      <td>4.0</td>\n",
       "      <td>2.0</td>\n",
       "      <td>1.0</td>\n",
       "      <td>3.0</td>\n",
       "      <td>2.00</td>\n",
       "      <td>4.00</td>\n",
       "      <td>4.5</td>\n",
       "      <td>0.25</td>\n",
       "      <td>4.5</td>\n",
       "      <td>3.5</td>\n",
       "      <td>2.0</td>\n",
       "      <td>2.0</td>\n",
       "      <td>0.0</td>\n",
       "    </tr>\n",
       "    <tr>\n",
       "      <th>270901</th>\n",
       "      <td>1.50</td>\n",
       "      <td>4.0</td>\n",
       "      <td>5.0</td>\n",
       "      <td>2.5</td>\n",
       "      <td>3.0</td>\n",
       "      <td>1.5</td>\n",
       "      <td>0.5</td>\n",
       "      <td>2.0</td>\n",
       "      <td>1.0</td>\n",
       "      <td>3.5</td>\n",
       "      <td>3.0</td>\n",
       "      <td>5.00</td>\n",
       "      <td>2.5</td>\n",
       "      <td>3.0</td>\n",
       "      <td>0.5</td>\n",
       "      <td>5.0</td>\n",
       "      <td>3.0</td>\n",
       "      <td>3.50</td>\n",
       "      <td>4.0</td>\n",
       "      <td>3.0</td>\n",
       "      <td>4.5</td>\n",
       "      <td>3.0</td>\n",
       "      <td>0.0</td>\n",
       "      <td>2.0</td>\n",
       "      <td>3.5</td>\n",
       "      <td>2.0</td>\n",
       "      <td>3.5</td>\n",
       "      <td>4.0</td>\n",
       "      <td>0.25</td>\n",
       "      <td>1.50</td>\n",
       "      <td>3.0</td>\n",
       "      <td>1.50</td>\n",
       "      <td>3.0</td>\n",
       "      <td>3.5</td>\n",
       "      <td>3.5</td>\n",
       "      <td>2.0</td>\n",
       "      <td>1.5</td>\n",
       "    </tr>\n",
       "    <tr>\n",
       "      <th>270902</th>\n",
       "      <td>4.00</td>\n",
       "      <td>3.5</td>\n",
       "      <td>3.0</td>\n",
       "      <td>4.5</td>\n",
       "      <td>3.5</td>\n",
       "      <td>4.5</td>\n",
       "      <td>3.5</td>\n",
       "      <td>2.0</td>\n",
       "      <td>4.0</td>\n",
       "      <td>3.0</td>\n",
       "      <td>2.5</td>\n",
       "      <td>4.00</td>\n",
       "      <td>3.0</td>\n",
       "      <td>3.5</td>\n",
       "      <td>2.0</td>\n",
       "      <td>3.5</td>\n",
       "      <td>3.0</td>\n",
       "      <td>3.00</td>\n",
       "      <td>5.0</td>\n",
       "      <td>4.0</td>\n",
       "      <td>2.0</td>\n",
       "      <td>2.0</td>\n",
       "      <td>0.0</td>\n",
       "      <td>0.0</td>\n",
       "      <td>3.5</td>\n",
       "      <td>2.5</td>\n",
       "      <td>3.5</td>\n",
       "      <td>0.0</td>\n",
       "      <td>3.00</td>\n",
       "      <td>2.50</td>\n",
       "      <td>3.0</td>\n",
       "      <td>2.50</td>\n",
       "      <td>4.0</td>\n",
       "      <td>3.5</td>\n",
       "      <td>3.0</td>\n",
       "      <td>1.5</td>\n",
       "      <td>0.0</td>\n",
       "    </tr>\n",
       "    <tr>\n",
       "      <th>270903</th>\n",
       "      <td>0.25</td>\n",
       "      <td>3.0</td>\n",
       "      <td>3.0</td>\n",
       "      <td>4.0</td>\n",
       "      <td>4.5</td>\n",
       "      <td>5.0</td>\n",
       "      <td>4.0</td>\n",
       "      <td>1.0</td>\n",
       "      <td>4.0</td>\n",
       "      <td>3.0</td>\n",
       "      <td>3.0</td>\n",
       "      <td>5.00</td>\n",
       "      <td>4.0</td>\n",
       "      <td>1.5</td>\n",
       "      <td>0.5</td>\n",
       "      <td>1.5</td>\n",
       "      <td>3.5</td>\n",
       "      <td>0.25</td>\n",
       "      <td>5.0</td>\n",
       "      <td>4.0</td>\n",
       "      <td>3.5</td>\n",
       "      <td>4.0</td>\n",
       "      <td>0.0</td>\n",
       "      <td>0.5</td>\n",
       "      <td>5.0</td>\n",
       "      <td>3.5</td>\n",
       "      <td>5.0</td>\n",
       "      <td>4.5</td>\n",
       "      <td>0.25</td>\n",
       "      <td>2.50</td>\n",
       "      <td>3.5</td>\n",
       "      <td>2.00</td>\n",
       "      <td>4.0</td>\n",
       "      <td>4.0</td>\n",
       "      <td>1.0</td>\n",
       "      <td>2.0</td>\n",
       "      <td>5.0</td>\n",
       "    </tr>\n",
       "    <tr>\n",
       "      <th>270904</th>\n",
       "      <td>0.25</td>\n",
       "      <td>0.0</td>\n",
       "      <td>0.0</td>\n",
       "      <td>0.0</td>\n",
       "      <td>0.0</td>\n",
       "      <td>0.0</td>\n",
       "      <td>5.0</td>\n",
       "      <td>4.5</td>\n",
       "      <td>0.0</td>\n",
       "      <td>0.0</td>\n",
       "      <td>0.0</td>\n",
       "      <td>4.00</td>\n",
       "      <td>0.0</td>\n",
       "      <td>4.0</td>\n",
       "      <td>0.0</td>\n",
       "      <td>0.0</td>\n",
       "      <td>0.0</td>\n",
       "      <td>0.00</td>\n",
       "      <td>4.5</td>\n",
       "      <td>0.0</td>\n",
       "      <td>0.0</td>\n",
       "      <td>0.0</td>\n",
       "      <td>0.0</td>\n",
       "      <td>0.0</td>\n",
       "      <td>0.0</td>\n",
       "      <td>1.0</td>\n",
       "      <td>2.0</td>\n",
       "      <td>0.0</td>\n",
       "      <td>4.50</td>\n",
       "      <td>0.25</td>\n",
       "      <td>0.0</td>\n",
       "      <td>0.00</td>\n",
       "      <td>0.0</td>\n",
       "      <td>3.5</td>\n",
       "      <td>3.5</td>\n",
       "      <td>0.0</td>\n",
       "      <td>0.0</td>\n",
       "    </tr>\n",
       "  </tbody>\n",
       "</table>\n",
       "</div>"
      ],
      "text/plain": [
       "movieId  1018  10428  11072  12477  1262  1391  1427  14353  169813   19  \\\n",
       "userId                                                                     \n",
       "270894   0.00    0.0    0.0    0.0   0.0   0.0   0.0    0.0     0.0  0.0   \n",
       "270896   0.00    0.0    0.0    0.0   0.0   0.0   0.0    0.0     0.0  2.0   \n",
       "270897   0.00    1.0    0.0    3.0   4.0   0.0   1.0    0.0     5.0  0.0   \n",
       "270898   4.50    3.5    3.0    3.0   2.5   4.5   2.5    4.0     4.0  0.0   \n",
       "270899   4.00    3.0    4.0    3.5   3.0   4.5   4.0    4.5     4.5  3.5   \n",
       "270900   5.00    1.0    3.0    1.0   5.0   4.0   2.5    4.0     4.5  3.0   \n",
       "270901   1.50    4.0    5.0    2.5   3.0   1.5   0.5    2.0     1.0  3.5   \n",
       "270902   4.00    3.5    3.0    4.5   3.5   4.5   3.5    2.0     4.0  3.0   \n",
       "270903   0.25    3.0    3.0    4.0   4.5   5.0   4.0    1.0     4.0  3.0   \n",
       "270904   0.25    0.0    0.0    0.0   0.0   0.0   5.0    4.5     0.0  0.0   \n",
       "\n",
       "movieId  1946  20375  20992  210479  24650  24804  253306  26670  279  3175  \\\n",
       "userId                                                                        \n",
       "270894    0.0   0.00    0.0     0.0    0.0    0.0     0.0   0.00  0.0   0.0   \n",
       "270896    0.0   0.00    0.0     0.0    0.0    0.0     0.0   0.00  0.0   0.0   \n",
       "270897    0.5   0.25    0.0     4.0    2.5    0.0     0.0   0.00  0.0   2.5   \n",
       "270898    2.0   1.50    4.0     3.5    1.5    5.0     3.0   4.00  2.5   3.5   \n",
       "270899    3.5   3.50    4.5     2.5    1.0    0.0     4.0   0.00  0.0   2.0   \n",
       "270900    1.5   0.25    0.0     1.5    0.5    1.5     3.5   4.00  3.5   0.0   \n",
       "270901    3.0   5.00    2.5     3.0    0.5    5.0     3.0   3.50  4.0   3.0   \n",
       "270902    2.5   4.00    3.0     3.5    2.0    3.5     3.0   3.00  5.0   4.0   \n",
       "270903    3.0   5.00    4.0     1.5    0.5    1.5     3.5   0.25  5.0   4.0   \n",
       "270904    0.0   4.00    0.0     4.0    0.0    0.0     0.0   0.00  4.5   0.0   \n",
       "\n",
       "movieId  397  436  480  483  5548  5994  612  6615  71859   793  8356  86829  \\\n",
       "userId                                                                         \n",
       "270894   0.0  0.0  3.0  0.0   0.0   0.0  0.0   0.0   0.00  0.00   0.0   0.00   \n",
       "270896   0.0  0.0  5.0  0.0   0.0   0.0  0.0   0.0   0.00  0.00   0.0   0.00   \n",
       "270897   0.0  3.5  0.0  0.0   0.0   3.0  0.0   0.0   1.50  0.50   0.0   1.00   \n",
       "270898   0.0  0.0  0.0  0.0   3.5   0.0  4.0   4.5   1.50  3.00   4.5   3.50   \n",
       "270899   0.0  4.0  0.0  0.0   0.0   1.5  2.5   4.0   4.50  2.00   0.0   3.50   \n",
       "270900   0.0  4.0  0.0  3.5   4.0   2.0  1.0   3.0   2.00  4.00   4.5   0.25   \n",
       "270901   4.5  3.0  0.0  2.0   3.5   2.0  3.5   4.0   0.25  1.50   3.0   1.50   \n",
       "270902   2.0  2.0  0.0  0.0   3.5   2.5  3.5   0.0   3.00  2.50   3.0   2.50   \n",
       "270903   3.5  4.0  0.0  0.5   5.0   3.5  5.0   4.5   0.25  2.50   3.5   2.00   \n",
       "270904   0.0  0.0  0.0  0.0   0.0   1.0  2.0   0.0   4.50  0.25   0.0   0.00   \n",
       "\n",
       "movieId  925  9470  9504  9707  97370  \n",
       "userId                                 \n",
       "270894   0.0   0.0   0.0   0.0    0.0  \n",
       "270896   0.0   0.0   0.0   0.0    0.0  \n",
       "270897   0.0   3.5   1.0   1.5    0.0  \n",
       "270898   4.0   1.5   0.0   1.5    5.0  \n",
       "270899   4.5   0.0   1.5   3.0    4.0  \n",
       "270900   4.5   3.5   2.0   2.0    0.0  \n",
       "270901   3.0   3.5   3.5   2.0    1.5  \n",
       "270902   4.0   3.5   3.0   1.5    0.0  \n",
       "270903   4.0   4.0   1.0   2.0    5.0  \n",
       "270904   0.0   3.5   3.5   0.0    0.0  "
      ]
     },
     "execution_count": 151,
     "metadata": {
      "tags": []
     },
     "output_type": "execute_result"
    }
   ],
   "source": [
    "#### user-item interaction matrix (movie ratings)\n",
    "df=data[[\"movieId\", \"userId\", \"rating\"]].reset_index()\n",
    "interactions = df.groupby(['userId', 'movieId'])['rating'].sum().unstack().fillna(0)\n",
    "interactions.tail(10)\n",
    "# df.shape"
   ]
  },
  {
   "cell_type": "code",
   "execution_count": null,
   "metadata": {
    "colab": {
     "base_uri": "https://localhost:8080/"
    },
    "executionInfo": {
     "elapsed": 3926,
     "status": "ok",
     "timestamp": 1618791354910,
     "user": {
      "displayName": "Chelsea French",
      "photoUrl": "",
      "userId": "14566170901165451034"
     },
     "user_tz": 420
    },
    "id": "0fMEQERA1HxD",
    "outputId": "8f9fdf4b-ec07-4390-cff6-e74a88b27aef"
   },
   "outputs": [
    {
     "data": {
      "text/plain": [
       "{'1018': 'Mulholland Drive',\n",
       " '10428': 'Hackers',\n",
       " '11072': 'Blazing Saddles',\n",
       " '12477': 'Grave of the Fireflies',\n",
       " '1262': 'Stranger Than Fiction',\n",
       " '1391': 'Y Tu Mamá También',\n",
       " '1427': 'Perfume: The Story of a Murderer',\n",
       " '14353': 'Repo! The Genetic Opera',\n",
       " '169813': 'Short Term 12',\n",
       " '19': 'Metropolis',\n",
       " '1946': 'eXistenZ',\n",
       " '20375': 'Raid',\n",
       " '20992': 'Brother',\n",
       " '210479': 'Locke',\n",
       " '24650': 'The Fountainhead',\n",
       " '24804': 'Black Dynamite',\n",
       " '253306': 'Housebound',\n",
       " '26670': 'Noises Off...',\n",
       " '279': 'Amadeus',\n",
       " '3175': 'Barry Lyndon',\n",
       " '397': 'French Kiss',\n",
       " '436': 'Maria Full of Grace',\n",
       " '480': 'Monsoon Wedding',\n",
       " '483': 'Wild at Heart',\n",
       " '5548': 'RoboCop',\n",
       " '5994': 'The Family Man',\n",
       " '612': 'Munich',\n",
       " '6615': 'Lars and the Real Girl',\n",
       " '71859': 'We Need to Talk About Kevin',\n",
       " '793': 'Blue Velvet',\n",
       " '8356': 'An Affair to Remember',\n",
       " '86829': 'Inside Llewyn Davis',\n",
       " '925': 'Do the Right Thing',\n",
       " '9470': 'Kung Fu Hustle',\n",
       " '9504': 'Glengarry Glen Ross',\n",
       " '9707': 'Bubba Ho-tep',\n",
       " '97370': 'Under the Skin'}"
      ]
     },
     "execution_count": 152,
     "metadata": {
      "tags": []
     },
     "output_type": "execute_result"
    }
   ],
   "source": [
    "### user id/index dictionary for accessing user data for predictions \n",
    "#user_id = list((interactions.reset_index()).index)\n",
    "user_id = list(interactions.index)\n",
    "user_dict = {}\n",
    "counter = 0\n",
    "for i in user_id:\n",
    "    user_dict[i] = counter\n",
    "    counter += 1\n",
    "\n",
    "### item dictionary (movie id/ title)\n",
    "item_dict ={}\n",
    "for i in range(data.shape[0]):\n",
    "    item_dict[(data.loc[i,\"movieId\"])] = data.loc[i,\"title\"]\n",
    "\n",
    "item_dict"
   ]
  },
  {
   "cell_type": "code",
   "execution_count": null,
   "metadata": {
    "id": "CXnLBtC01nWi"
   },
   "outputs": [],
   "source": [
    "#### Item feature matrix. Reformat plot keywords into a sparse matrix. This matrix will be used to compute latent variables for the content-based part of the recommendation algorithm\n",
    "def tokens(x):\n",
    "    return x.split(', ')\n",
    "                                                                                 \n",
    "item_features= data[[\"movieId\", \"word_array\"]].drop_duplicates([\"movieId\", \"word_array\"]).reset_index(drop=True)\n",
    "                                                                  \n",
    "from sklearn.feature_extraction.text import CountVectorizer\n",
    "cv=CountVectorizer(tokenizer=tokens, max_features = 100)\n",
    "\n",
    "item_features_csr=cv.fit_transform(item_features['word_array'])"
   ]
  },
  {
   "cell_type": "markdown",
   "metadata": {
    "id": "G1G0-EgZ2FUB"
   },
   "source": [
    "## LightFM recommendation algorithm"
   ]
  },
  {
   "cell_type": "code",
   "execution_count": null,
   "metadata": {
    "colab": {
     "base_uri": "https://localhost:8080/"
    },
    "executionInfo": {
     "elapsed": 3651,
     "status": "ok",
     "timestamp": 1618791365551,
     "user": {
      "displayName": "Chelsea French",
      "photoUrl": "",
      "userId": "14566170901165451034"
     },
     "user_tz": 420
    },
    "id": "RFdy8eSy1dlD",
    "outputId": "087c7d7f-dbc0-426a-917f-ccadb257101e"
   },
   "outputs": [
    {
     "name": "stdout",
     "output_type": "stream",
     "text": [
      "Requirement already satisfied: lightfm in /usr/local/lib/python3.7/dist-packages (1.16)\n",
      "Requirement already satisfied: numpy in /usr/local/lib/python3.7/dist-packages (from lightfm) (1.19.5)\n",
      "Requirement already satisfied: requests in /usr/local/lib/python3.7/dist-packages (from lightfm) (2.23.0)\n",
      "Requirement already satisfied: scipy>=0.17.0 in /usr/local/lib/python3.7/dist-packages (from lightfm) (1.4.1)\n",
      "Requirement already satisfied: scikit-learn in /usr/local/lib/python3.7/dist-packages (from lightfm) (0.22.2.post1)\n",
      "Requirement already satisfied: certifi>=2017.4.17 in /usr/local/lib/python3.7/dist-packages (from requests->lightfm) (2020.12.5)\n",
      "Requirement already satisfied: chardet<4,>=3.0.2 in /usr/local/lib/python3.7/dist-packages (from requests->lightfm) (3.0.4)\n",
      "Requirement already satisfied: urllib3!=1.25.0,!=1.25.1,<1.26,>=1.21.1 in /usr/local/lib/python3.7/dist-packages (from requests->lightfm) (1.24.3)\n",
      "Requirement already satisfied: idna<3,>=2.5 in /usr/local/lib/python3.7/dist-packages (from requests->lightfm) (2.10)\n",
      "Requirement already satisfied: joblib>=0.11 in /usr/local/lib/python3.7/dist-packages (from scikit-learn->lightfm) (1.0.1)\n"
     ]
    }
   ],
   "source": [
    "### imports\n",
    "!pip install lightfm\n",
    "from lightfm import LightFM\n",
    "import scipy\n",
    "from scipy import sparse \n",
    "from lightfm.cross_validation import random_train_test_split\n",
    "from lightfm.evaluation import auc_score, precision_at_k, recall_at_k\n",
    "from lightfm import LightFM"
   ]
  },
  {
   "cell_type": "code",
   "execution_count": null,
   "metadata": {
    "colab": {
     "base_uri": "https://localhost:8080/"
    },
    "executionInfo": {
     "elapsed": 7119,
     "status": "ok",
     "timestamp": 1618791411058,
     "user": {
      "displayName": "Chelsea French",
      "photoUrl": "",
      "userId": "14566170901165451034"
     },
     "user_tz": 420
    },
    "id": "yOgzWVcn2LqP",
    "outputId": "00e6ca27-8585-4dc1-a632-a5442f894cc8"
   },
   "outputs": [
    {
     "data": {
      "text/plain": [
       "<lightfm.lightfm.LightFM at 0x7ff8cc2290d0>"
      ]
     },
     "execution_count": 158,
     "metadata": {
      "tags": []
     },
     "output_type": "execute_result"
    }
   ],
   "source": [
    "## Algorithms that LightFM accepts as an argument\n",
    "# logistic: useful when both positive (1) and negative (-1) interactions are present.\n",
    "# BPR: Bayesian Personalised Ranking [1] pairwise loss. Maximises the prediction difference between a positive example and a randomly chosen negative example. Useful when only positive interactions are present and optimising ROC AUC is desired.\n",
    "# WARP: Weighted Approximate-Rank Pairwise [2] loss. Maximises the rank of positive examples by repeatedly sampling negative examples until rank violating one is found. Useful when only positive interactions are present and optimising the top of the recommendation list (precision@k) is desired.\n",
    "# k-OS WARP: k-th order statistic loss [3]. A modification of WARP that uses the k-th positive example for any given user as a basis for pairwise updates.\n",
    "\n",
    "## Can also check the collaborative only algorithm accuracy\n",
    "# model.fit(x,epochs=60,num_threads = 10, item_features=None)\n",
    "\n",
    "x = sparse.csr_matrix(interactions.values)\n",
    "train, test = random_train_test_split(interactions=x, test_percentage=0.2)\n",
    "model = LightFM(no_components= 50, loss='warp')\n",
    "model.fit(x,epochs=10, item_features=item_features_csr, user_features=None)"
   ]
  },
  {
   "cell_type": "markdown",
   "metadata": {
    "id": "SQganEUA3ACm"
   },
   "source": [
    "## LightFM model evaluation (collaborative and content-based filtering)"
   ]
  },
  {
   "cell_type": "code",
   "execution_count": null,
   "metadata": {
    "colab": {
     "base_uri": "https://localhost:8080/"
    },
    "executionInfo": {
     "elapsed": 3478,
     "status": "ok",
     "timestamp": 1618791416749,
     "user": {
      "displayName": "Chelsea French",
      "photoUrl": "",
      "userId": "14566170901165451034"
     },
     "user_tz": 420
    },
    "id": "e2wT22Mi1Q7c",
    "outputId": "ae190e13-8724-4816-c939-b0b5e174ff11"
   },
   "outputs": [
    {
     "name": "stdout",
     "output_type": "stream",
     "text": [
      "Precision: train 0.30\n",
      "AUC: train 1.00\n",
      "Precision: test 0.22\n",
      "AUC: test 0.99\n"
     ]
    }
   ],
   "source": [
    "train_precision = precision_at_k(model, train, k=5, item_features=item_features_csr).mean()\n",
    "test_precision = precision_at_k(model, test, k=5, item_features=item_features_csr).mean()\n",
    "\n",
    "train_auc = auc_score(model, train, item_features=item_features_csr).mean()\n",
    "test_auc = auc_score(model, test, item_features=item_features_csr).mean()\n",
    "\n",
    "print('Precision: train %.2f' % (train_precision))\n",
    "print('AUC: train %.2f' % (train_auc))\n",
    "print('Precision: test %.2f' % (test_precision))\n",
    "print('AUC: test %.2f' % (test_auc))\n"
   ]
  },
  {
   "cell_type": "code",
   "execution_count": null,
   "metadata": {
    "colab": {
     "base_uri": "https://localhost:8080/"
    },
    "executionInfo": {
     "elapsed": 9841,
     "status": "ok",
     "timestamp": 1618791399134,
     "user": {
      "displayName": "Chelsea French",
      "photoUrl": "",
      "userId": "14566170901165451034"
     },
     "user_tz": 420
    },
    "id": "MuZU79CSqvqL",
    "outputId": "f9084a9b-fe3a-4234-d0c9-ec38d018fab6"
   },
   "outputs": [
    {
     "name": "stdout",
     "output_type": "stream",
     "text": [
      "Precision: 0.33\n",
      "AUC:1.00\n"
     ]
    }
   ],
   "source": [
    "## model and accuracy for entire dataframe to use for predictions\n",
    "\n",
    "full_data = sparse.csr_matrix(interactions.values)\n",
    "model = LightFM(no_components= 50, loss='warp')\n",
    "model.fit(full_data ,epochs=10, item_features=item_features_csr)\n",
    "\n",
    "\n",
    "precision = precision_at_k(model, x, k=5, item_features=item_features_csr).mean()\n",
    "auc = auc_score(model, x, item_features=item_features_csr).mean()\n",
    "\n",
    "\n",
    "print('Precision: %.2f' % (precision))\n",
    "print('AUC:%.2f' % (auc))"
   ]
  },
  {
   "cell_type": "markdown",
   "metadata": {
    "id": "9NAXlu_U3bRm"
   },
   "source": [
    "## Export algorithm and data dictionaries for future recommendations"
   ]
  },
  {
   "cell_type": "code",
   "execution_count": null,
   "metadata": {
    "id": "HIvj2zrw3M46"
   },
   "outputs": [],
   "source": [
    "##save model and dataframes\n",
    "\n",
    "import pickle\n",
    "import json\n",
    "from scipy import sparse\n",
    "import numpy\n",
    "pickle.dump(model, open('model.pkl','wb'))\n",
    "\n",
    "def convert(o):\n",
    "    if isinstance(o, numpy.int64): return int(o)  \n",
    "    raise TypeError\n",
    "\n",
    "#Save user ratings matrix\n",
    "sparse.save_npz('rating_interaction.npz', x)\n",
    "\n",
    "### save item feature sparse matrix\n",
    "sparse.save_npz('item_feature_sparse.npz', item_features_csr)\n",
    "\n",
    "pickle.dump(interactions, open('interactions.pkl','wb'))\n",
    "\n",
    "## save and reload item embeddings\n",
    "item_representations=model.get_item_representations()\n",
    "pickle.dump(item_representations, open('item_representations.pkl','wb'))\n",
    "#item_representations = pickle.load(open('item_representations.pkl','rb'))"
   ]
  },
  {
   "cell_type": "code",
   "execution_count": null,
   "metadata": {},
   "outputs": [],
   "source": [
    "item_name_dict=cv.vocabulary_\n",
    "\n",
    "#### save dictionaries\n",
    "with open('item_name_dict.json', 'w') as fp:\n",
    "    json.dump(item_name_dict, fp, default=convert)\n",
    "\n",
    "with open('item_dict.json', 'w') as fp:\n",
    "    json.dump(item_dict, fp, default=convert)\n",
    "\n",
    "with open('user_dict.json', 'w') as fp:\n",
    "    json.dump(user_dict, fp, default=convert)"
   ]
  },
  {
   "cell_type": "markdown",
   "metadata": {
    "id": "ikhuG3Wa9_a6"
   },
   "source": [
    "## Make Predictions for members"
   ]
  },
  {
   "cell_type": "code",
   "execution_count": null,
   "metadata": {
    "colab": {
     "base_uri": "https://localhost:8080/"
    },
    "executionInfo": {
     "elapsed": 469,
     "status": "ok",
     "timestamp": 1618792355146,
     "user": {
      "displayName": "Chelsea French",
      "photoUrl": "",
      "userId": "14566170901165451034"
     },
     "user_tz": 420
    },
    "id": "I5GMy-ld-EYx",
    "outputId": "4cd35817-3e22-4276-d155-82ba547a5ac6"
   },
   "outputs": [
    {
     "name": "stdout",
     "output_type": "stream",
     "text": [
      "270904 -> 95668\n"
     ]
    }
   ],
   "source": [
    "### Alissa    270897\n",
    "### Byron     270898\n",
    "### Chelsea   270899\n",
    "### Hannah    270900\n",
    "### Harrison  270901\n",
    "### Martin    270902\n",
    "### Michael   270903\n",
    "### Katherine 270904\n",
    "\n",
    "for key, value in user_dict.items():\n",
    "    if key == 270904.0:\n",
    "        print(key, '->', value)\n"
   ]
  },
  {
   "cell_type": "code",
   "execution_count": null,
   "metadata": {
    "id": "pfgvVgl5_Aw9"
   },
   "outputs": [],
   "source": [
    "n_users, n_items = x.shape\n",
    "\n",
    "alissa=model.predict(95661,np.arange(n_items), item_features=item_features_csr, user_features=None)\n",
    "byron=model.predict(95662,np.arange(n_items), item_features=item_features_csr, user_features=None)\n",
    "chelsea=model.predict(95663,np.arange(n_items), item_features=item_features_csr, user_features=None)\n",
    "hannah=model.predict(95664,np.arange(n_items), item_features=item_features_csr, user_features=None)\n",
    "harrison=model.predict(95665,np.arange(n_items), item_features=item_features_csr, user_features=None)\n",
    "martin=model.predict(95666,np.arange(n_items), item_features=item_features_csr, user_features=None)\n",
    "michael=model.predict(95667,np.arange(n_items), item_features=item_features_csr, user_features=None)\n",
    "katherine=model.predict(95668,np.arange(n_items), item_features=item_features_csr, user_features=None)\n",
    "\n",
    "alissa=list(np.interp(alissa, (alissa.min(), alissa.max()), (0, +5)))\n",
    "byron=list(np.interp(byron, (byron.min(), byron.max()), (0, +5)))\n",
    "chelsea=list(np.interp(byron, (chelsea.min(), chelsea.max()), (0, +5)))\n",
    "hannah=list(np.interp(hannah, (hannah.min(), hannah.max()), (0, +5)))\n",
    "harrison=list(np.interp(harrison, (harrison.min(), harrison.max()), (0, +5)))\n",
    "martin=list(np.interp(martin, (martin.min(), martin.max()), (0, +5)))\n",
    "michael=list(np.interp(michael, (michael.min(), michael.max()), (0, +5)))\n",
    "katherine=list(np.interp(katherine, (katherine.min(), katherine.max()), (0, +5)))\n",
    "\n",
    "\n",
    "movieIds=list(interactions.columns)\n",
    "predictions = pd.DataFrame(list(zip(movieIds, alissa, byron, hannah, chelsea, harrison, martin, michael, katherine)), columns = ['movieIds', 'alissa', 'byron', 'hannah', 'chelsea','harrison', 'martin', 'michael', 'katherine'])"
   ]
  },
  {
   "cell_type": "code",
   "execution_count": null,
   "metadata": {
    "id": "dEEQU1KdHlqf"
   },
   "outputs": [],
   "source": [
    "predictions.to_csv('predictions.csv')"
   ]
  }
 ],
 "metadata": {
  "colab": {
   "authorship_tag": "ABX9TyP+Y4/K31/VJKBHh/ITNbkG",
   "collapsed_sections": [],
   "name": "movieclub_model.ipynb",
   "provenance": []
  },
  "kernelspec": {
   "display_name": "Python 3",
   "language": "python",
   "name": "python3"
  },
  "language_info": {
   "codemirror_mode": {
    "name": "ipython",
    "version": 3
   },
   "file_extension": ".py",
   "mimetype": "text/x-python",
   "name": "python",
   "nbconvert_exporter": "python",
   "pygments_lexer": "ipython3",
   "version": "3.7.9"
  }
 },
 "nbformat": 4,
 "nbformat_minor": 1
}
